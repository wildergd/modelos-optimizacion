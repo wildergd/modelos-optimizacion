{
 "cells": [
  {
   "cell_type": "code",
   "execution_count": 1,
   "metadata": {},
   "outputs": [],
   "source": [
    "import sys\n",
    "sys.dont_write_bytecode = True\n",
    "\n",
    "import numpy as np\n",
    "import pandas as pd\n",
    "import matplotlib.pyplot as plt\n",
    "from mpl_toolkits.mplot3d import axes3d, Axes3D\n",
    "%matplotlib inline\n",
    "\n",
    "pd.set_option('display.precision', 4)\n",
    "pd.set_option('display.float_format', lambda x: '%.4f' % x)\n",
    "np.set_printoptions(formatter={'all': lambda x: '%.4f' % x})\n",
    "\n",
    "from lib.gradient_descent import descenso_gradiente_estocastico, descenso_gradiente_con_momentum, descenso_gradiente_con_momentum_adam, descenso_gradiente_rmsprop\n",
    "from lib.loss_functions import mse_gradient, mse"
   ]
  },
  {
   "cell_type": "code",
   "execution_count": 2,
   "metadata": {},
   "outputs": [],
   "source": [
    "dataset = pd.read_csv('./data/usa-housing-modified.csv')\n",
    "\n",
    "dataset['Avg_Area_Income'] = (\n",
    "    dataset['Avg_Area_Income'] - dataset['Avg_Area_Income'].mean()\n",
    ") / dataset['Avg_Area_Income'].std()\n",
    "dataset['Area_Population'] = (\n",
    "    dataset['Area_Population'] - dataset['Area_Population'].mean()\n",
    ") / dataset['Area_Population'].std()\n",
    "dataset['Price'] = (\n",
    "    dataset['Price'] - dataset['Price'].mean()\n",
    ") / dataset['Price'].std()"
   ]
  },
  {
   "cell_type": "code",
   "execution_count": 3,
   "metadata": {},
   "outputs": [],
   "source": [
    "x = dataset[['Avg_Area_Income', 'Area_Population']].to_numpy()\n",
    "y = dataset[['Price']].to_numpy()"
   ]
  },
  {
   "cell_type": "code",
   "execution_count": 4,
   "metadata": {},
   "outputs": [],
   "source": [
    "sample_size = 32"
   ]
  },
  {
   "cell_type": "code",
   "execution_count": 5,
   "metadata": {},
   "outputs": [],
   "source": [
    "result_sdg = descenso_gradiente_estocastico(\n",
    "    x,\n",
    "    y,\n",
    "    alpha=0.1,\n",
    "    error=0.00001,\n",
    "    max_iter=100000,\n",
    "    sample_size=sample_size\n",
    ")"
   ]
  },
  {
   "cell_type": "code",
   "execution_count": 6,
   "metadata": {},
   "outputs": [],
   "source": [
    "result_sdg_momentum = descenso_gradiente_con_momentum(\n",
    "    x,\n",
    "    y,\n",
    "    alpha=0.1,\n",
    "    error=0.00001,\n",
    "    betha=0.9,\n",
    "    max_iter=100000,\n",
    "    sample_size=sample_size\n",
    ")"
   ]
  },
  {
   "cell_type": "code",
   "execution_count": 7,
   "metadata": {},
   "outputs": [],
   "source": [
    "result_sdg_momentum_adam = descenso_gradiente_con_momentum_adam(\n",
    "    x,\n",
    "    y,\n",
    "    alpha=0.1,\n",
    "    error=0.00001,\n",
    "    eta1=0.9,\n",
    "    eta2=0.999,\n",
    "    max_iter=100000,\n",
    "    sample_size=sample_size\n",
    ")"
   ]
  },
  {
   "cell_type": "code",
   "execution_count": 8,
   "metadata": {},
   "outputs": [],
   "source": [
    "result_rmsprop = descenso_gradiente_rmsprop(\n",
    "    x,\n",
    "    y,\n",
    "    error=0.00001,\n",
    "    step_size=0.1,\n",
    "    rho=0.99,\n",
    "    max_iter=100000\n",
    ")"
   ]
  },
  {
   "cell_type": "code",
   "execution_count": 9,
   "metadata": {},
   "outputs": [
    {
     "name": "stdout",
     "output_type": "stream",
     "text": [
      "Method: SDG [iters: 56, thetas: [-0.1366 0.5017 0.6320], error: 0.000010]\n",
      "Method: SDG With Momentum [iters: 91, thetas: [-0.1284 0.5064 0.6289], error: 0.000009]\n",
      "Method: Adam [iters: 53, thetas: [-0.1365 0.5017 0.6318], error: 0.000008]\n",
      "Method: RMSPROP [iters: 14, thetas: [0.0000 0.6465 0.4191], error: 0.000008]\n"
     ]
    }
   ],
   "source": [
    "def print_result(method_name: str, result: dict = {}) -> None:\n",
    "    if not result: \n",
    "        return None\n",
    "    theta_v = result['theta']\n",
    "    iters = result['iters']\n",
    "    error = result['current_error']\n",
    "    print(f'Method: {method_name} [iters: {iters}, thetas: {np.array(theta_v).reshape(theta_v.shape[0])}, error: {error:.6f}]')\n",
    "\n",
    "print_result('SDG', result_sdg)\n",
    "print_result('SDG With Momentum', result_sdg_momentum)\n",
    "print_result('Adam', result_sdg_momentum_adam)\n",
    "print_result('RMSPROP', result_rmsprop)"
   ]
  },
  {
   "cell_type": "code",
   "execution_count": 10,
   "metadata": {},
   "outputs": [],
   "source": [
    "thetas_sdg = np.array(result_sdg['thetas']).reshape((result_sdg['iters'] + 1, result_sdg['theta'].shape[0]))\n",
    "iters_sdg = np.arange(result_sdg['iters'] + 1)\n",
    "\n",
    "thetas_sdgm = np.array(result_sdg_momentum['thetas']).reshape((result_sdg_momentum['iters'] + 1, result_sdg_momentum['theta'].shape[0]))\n",
    "iters_sdgm = np.arange(result_sdg_momentum['iters'] + 1)\n",
    "\n",
    "thetas_sdgma = np.array(result_sdg_momentum_adam['thetas']).reshape((result_sdg_momentum_adam['iters'] + 1, result_sdg_momentum_adam['theta'].shape[0]))\n",
    "iters_sdgma = np.arange(result_sdg_momentum_adam['iters'] + 1)\n",
    "\n",
    "thetas_rmsprop = np.array(result_rmsprop['thetas']).reshape((result_rmsprop['iters'], result_rmsprop['theta'].shape[0]))\n",
    "iters_rmsprop = np.arange(result_rmsprop['iters'] + 1)\n",
    "\n",
    "theta1_sdg = thetas_sdg[:,-2]\n",
    "theta2_sdg = thetas_sdg[:,-1]\n",
    "\n",
    "theta1_sdgm = thetas_sdgm[:,-2]\n",
    "theta2_sdgm = thetas_sdgm[:,-1]\n",
    "\n",
    "theta1_sdgma = thetas_sdgma[:,-2]\n",
    "theta2_sdgma = thetas_sdgma[:,-1]\n",
    "\n",
    "theta1_rmsprop = thetas_rmsprop[:,-2]\n",
    "theta2_rmsprop = thetas_rmsprop[:,-1]"
   ]
  },
  {
   "cell_type": "code",
   "execution_count": 11,
   "metadata": {},
   "outputs": [
    {
     "data": {
      "image/png": "[encoded data removed]",
      "text/plain": [
       "<Figure size 640x480 with 1 Axes>"
      ]
     },
     "metadata": {},
     "output_type": "display_data"
    }
   ],
   "source": [
    "%matplotlib inline\n",
    "plt.plot(np.arange(result_sdg_momentum['iters']), result_sdg_momentum['errors'], color= 'red', label = 'momentum')\n",
    "plt.plot(np.arange(result_sdg_momentum_adam['iters']), result_sdg_momentum_adam['errors'], color= 'orange', label = 'adam')\n",
    "plt.plot(np.arange(result_sdg['iters']), result_sdg['errors'], color = 'black', label = 'sdg')\n",
    "plt.plot(np.arange(result_rmsprop['iters']), result_rmsprop['errors'], color = 'green', label = 'rmsprop')\n",
    "plt.legend()\n",
    "plt.show()"
   ]
  },
  {
   "cell_type": "code",
   "execution_count": 12,
   "metadata": {},
   "outputs": [
    {
     "data": {
      "image/png": "[encoded data removed]",
      "text/plain": [
       "<Figure size 640x480 with 1 Axes>"
      ]
     },
     "metadata": {},
     "output_type": "display_data"
    }
   ],
   "source": [
    "%matplotlib inline\n",
    "\n",
    "x_p = np.column_stack((np.ones(x.shape[0]), x))\n",
    "\n",
    "plt.plot(\n",
    "    np.arange(result_sdg_momentum['iters'] + 1),\n",
    "    [mse(np.array(result_sdg_momentum['thetas'])[i], x_p, y) for i in range(len(result_sdg_momentum['thetas']))],\n",
    "    color= 'red',\n",
    "    label = 'momentum'\n",
    ")\n",
    "plt.plot(\n",
    "    np.arange(result_sdg_momentum_adam['iters'] + 1),\n",
    "    [mse(np.array(result_sdg_momentum_adam['thetas'])[i], x_p, y) for i in range(len(result_sdg_momentum_adam['thetas']))],\n",
    "    color= 'orange',\n",
    "    label = 'adam'\n",
    ")\n",
    "plt.plot(\n",
    "    np.arange(result_sdg['iters'] + 1),\n",
    "    [mse(np.array(result_sdg['thetas'])[i], x_p, y) for i in range(len(result_sdg['thetas']))],\n",
    "    color= 'black',\n",
    "    label = 'sdg'\n",
    ")\n",
    "plt.plot(\n",
    "    np.arange(result_rmsprop['iters']),\n",
    "    [mse(np.array(result_rmsprop['thetas'])[i], x_p, y) for i in range(len(result_rmsprop['thetas']))],\n",
    "    color= 'green',\n",
    "    label = 'rmsprop'\n",
    ")\n",
    "plt.legend()\n",
    "plt.show()"
   ]
  },
  {
   "cell_type": "code",
   "execution_count": 13,
   "metadata": {},
   "outputs": [],
   "source": [
    "%matplotlib widget\n",
    "\n",
    "y_sdg = np.array([mse(np.array(result_sdg['thetas'])[i], x_p, y) for i in range(len(result_sdg['thetas']))])\n",
    "y_sdgm = np.array([mse(np.array(result_sdg_momentum['thetas'])[i], x_p, y) for i in range(len(result_sdg_momentum['thetas']))])\n",
    "y_sdgma = np.array([mse(np.array(result_sdg_momentum_adam['thetas'])[i], x_p, y) for i in range(len(result_sdg_momentum_adam['thetas']))])\n",
    "y_rmsprop = np.array([mse(np.array(result_rmsprop['thetas'])[i], x_p, y) for i in range(len(result_rmsprop['thetas']))])\n",
    "\n",
    "fig = plt.figure(figsize=(6, 6))\n",
    "ax = plt.axes(projection='3d')\n",
    "ax.plot3D(theta1_sdgm, theta2_sdgm, y_sdgm, 'red', label = 'momentum')  # type: ignore\n",
    "ax.plot3D(theta1_sdgma, theta2_sdgma, y_sdgma, 'orange', label = 'adam')  # type: ignore\n",
    "ax.plot3D(theta1_sdg, theta2_sdg, y_sdg, 'black', label = 'sdg')  # type: ignore\n",
    "ax.plot3D(theta1_rmsprop, theta2_rmsprop, y_rmsprop, 'green', label = 'rmsprop')  # type: ignore\n",
    "plt.legend()\n",
    "plt.show()\n"
   ]
  }
 ],
 "metadata": {
  "kernelspec": {
   "display_name": "Python 3.9.13 ('python-ml-env')",
   "language": "python",
   "name": "python3"
  },
  "language_info": {
   "codemirror_mode": {
    "name": "ipython",
    "version": 3
   },
   "file_extension": ".py",
   "mimetype": "text/x-python",
   "name": "python",
   "nbconvert_exporter": "python",
   "pygments_lexer": "ipython3",
   "version": "3.9.13"
  },
  "orig_nbformat": 4,
  "vscode": {
   "interpreter": {
    "hash": "b9b2b267d8b6a44308ab2463d2c66239007e25fbee8b8f5913de181c571a9509"
   }
  }
 },
 "nbformat": 4,
 "nbformat_minor": 2
}
