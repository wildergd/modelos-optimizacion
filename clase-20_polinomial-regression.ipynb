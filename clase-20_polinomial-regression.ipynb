{
 "cells": [
  {
   "cell_type": "code",
   "execution_count": 1,
   "metadata": {},
   "outputs": [],
   "source": [
    "import sys\n",
    "sys.dont_write_bytecode = True\n",
    "\n",
    "from typing import Callable\n",
    "import numpy as np\n",
    "import pandas as pd\n",
    "import matplotlib.pyplot as plt\n",
    "from mpl_toolkits.mplot3d import axes3d, Axes3D\n",
    "from lib.gradient_descent import descenso_gradiente_multi\n",
    "\n",
    "pd.set_option('display.precision', 4)\n",
    "pd.set_option('display.float_format', lambda x: '%.4f' % x)\n",
    "np.set_printoptions(formatter={'all': lambda x: '%.4f' % x})\n",
    "\n",
    "%matplotlib inline"
   ]
  },
  {
   "cell_type": "code",
   "execution_count": 2,
   "metadata": {},
   "outputs": [
    {
     "data": {
      "text/html": [
       "<div>\n",
       "<style scoped>\n",
       "    .dataframe tbody tr th:only-of-type {\n",
       "        vertical-align: middle;\n",
       "    }\n",
       "\n",
       "    .dataframe tbody tr th {\n",
       "        vertical-align: top;\n",
       "    }\n",
       "\n",
       "    .dataframe thead th {\n",
       "        text-align: right;\n",
       "    }\n",
       "</style>\n",
       "<table border=\"1\" class=\"dataframe\">\n",
       "  <thead>\n",
       "    <tr style=\"text-align: right;\">\n",
       "      <th></th>\n",
       "      <th>Position</th>\n",
       "      <th>Level</th>\n",
       "      <th>Salary</th>\n",
       "    </tr>\n",
       "  </thead>\n",
       "  <tbody>\n",
       "    <tr>\n",
       "      <th>0</th>\n",
       "      <td>Business Analyst</td>\n",
       "      <td>-1.4863</td>\n",
       "      <td>-0.6831</td>\n",
       "    </tr>\n",
       "    <tr>\n",
       "      <th>1</th>\n",
       "      <td>Junior Consultant</td>\n",
       "      <td>-1.1560</td>\n",
       "      <td>-0.6664</td>\n",
       "    </tr>\n",
       "    <tr>\n",
       "      <th>2</th>\n",
       "      <td>Senior Consultant</td>\n",
       "      <td>-0.8257</td>\n",
       "      <td>-0.6330</td>\n",
       "    </tr>\n",
       "    <tr>\n",
       "      <th>3</th>\n",
       "      <td>Manager</td>\n",
       "      <td>-0.4954</td>\n",
       "      <td>-0.5662</td>\n",
       "    </tr>\n",
       "    <tr>\n",
       "      <th>4</th>\n",
       "      <td>Country Manager</td>\n",
       "      <td>-0.1651</td>\n",
       "      <td>-0.4660</td>\n",
       "    </tr>\n",
       "  </tbody>\n",
       "</table>\n",
       "</div>"
      ],
      "text/plain": [
       "            Position   Level  Salary\n",
       "0   Business Analyst -1.4863 -0.6831\n",
       "1  Junior Consultant -1.1560 -0.6664\n",
       "2  Senior Consultant -0.8257 -0.6330\n",
       "3            Manager -0.4954 -0.5662\n",
       "4    Country Manager -0.1651 -0.4660"
      ]
     },
     "execution_count": 2,
     "metadata": {},
     "output_type": "execute_result"
    }
   ],
   "source": [
    "dataset = pd.read_csv('./data/position_salaries.csv')\n",
    "\n",
    "dataset['Level'] = (\n",
    "    dataset['Level'] - dataset['Level'].mean()\n",
    ") / dataset['Level'].std()\n",
    "\n",
    "dataset['Salary'] = (\n",
    "    dataset['Salary'] - dataset['Salary'].mean()\n",
    ") / dataset['Salary'].std()\n",
    "\n",
    "dataset.head()"
   ]
  },
  {
   "cell_type": "code",
   "execution_count": 3,
   "metadata": {},
   "outputs": [],
   "source": [
    "x = dataset[['Level']].to_numpy()\n",
    "y = dataset[['Salary']].to_numpy()"
   ]
  },
  {
   "cell_type": "code",
   "execution_count": 4,
   "metadata": {},
   "outputs": [
    {
     "data": {
      "image/png": "[encoded data removed]",
      "text/plain": [
       "<Figure size 640x480 with 1 Axes>"
      ]
     },
     "metadata": {},
     "output_type": "display_data"
    }
   ],
   "source": [
    "plt.plot(x, y, 'b.')\n",
    "plt.show()"
   ]
  },
  {
   "cell_type": "code",
   "execution_count": 5,
   "metadata": {},
   "outputs": [],
   "source": [
    "def expand_data_poly(x, grade = 2): \n",
    "    return np.column_stack(tuple(x**i for i in range(1, grade + 1)))\n",
    "\n",
    "h = lambda theta, x: np.dot(x, theta)\n",
    "j = lambda theta, x, y: np.sum(np.dot(np.transpose(x), (h(theta, x) - y)) ** 2) / (2 * y.shape[0])\n",
    "\n",
    "def print_result(method_name: str, result: dict = {}) -> None:\n",
    "    if not result: \n",
    "        return None\n",
    "    theta_v = result['theta']\n",
    "    iters = result['iters']\n",
    "    error = result['current_error']\n",
    "    print(f'Method: {method_name} [iters: {iters}, thetas: {np.array(theta_v).reshape(theta_v.shape[0])}, error: {error:.6f}]')"
   ]
  },
  {
   "cell_type": "code",
   "execution_count": 6,
   "metadata": {},
   "outputs": [],
   "source": [
    "x_exp = expand_data_poly(x, 4)"
   ]
  },
  {
   "cell_type": "code",
   "execution_count": 7,
   "metadata": {},
   "outputs": [],
   "source": [
    "result = descenso_gradiente_multi(\n",
    "    x_exp,\n",
    "    y,\n",
    "    fn = h,\n",
    "    cost_fn = j,\n",
    "    alpha = 0.05,\n",
    "    error = 0.001,\n",
    "    max_iter = 10000,\n",
    ")"
   ]
  },
  {
   "cell_type": "code",
   "execution_count": 8,
   "metadata": {},
   "outputs": [
    {
     "name": "stdout",
     "output_type": "stream",
     "text": [
      "Method: Polynomial [iters: 84, thetas: [-0.3512 0.4305 0.1973 0.2584 0.1552], error: 0.000983]\n"
     ]
    }
   ],
   "source": [
    "print_result('Polynomial', result)"
   ]
  },
  {
   "cell_type": "code",
   "execution_count": 9,
   "metadata": {},
   "outputs": [
    {
     "data": {
      "image/png": "[encoded data removed]",
      "text/plain": [
       "<Figure size 640x480 with 1 Axes>"
      ]
     },
     "metadata": {},
     "output_type": "display_data"
    }
   ],
   "source": [
    "%matplotlib inline\n",
    "\n",
    "x_p = np.column_stack((np.ones(x_exp.shape[0]), x_exp))\n",
    "\n",
    "plt.figure()\n",
    "plt.scatter(x, y, color = 'blue')\n",
    "plt.plot(x, h(result['theta'], x_p), 'r-')\n",
    "plt.show()"
   ]
  },
  {
   "cell_type": "code",
   "execution_count": 13,
   "metadata": {},
   "outputs": [
    {
     "data": {
      "image/png": "[encoded data removed]",
      "text/plain": [
       "<Figure size 640x480 with 1 Axes>"
      ]
     },
     "metadata": {},
     "output_type": "display_data"
    }
   ],
   "source": [
    "plt.plot(list(range(0, result['iters'])), result['errors'])\n",
    "plt.show()"
   ]
  }
 ],
 "metadata": {
  "kernelspec": {
   "display_name": "Python 3.9.13 ('python-ml-env')",
   "language": "python",
   "name": "python3"
  },
  "language_info": {
   "codemirror_mode": {
    "name": "ipython",
    "version": 3
   },
   "file_extension": ".py",
   "mimetype": "text/x-python",
   "name": "python",
   "nbconvert_exporter": "python",
   "pygments_lexer": "ipython3",
   "version": "3.9.13 | packaged by conda-forge | (main, May 27 2022, 17:00:52) \n[Clang 13.0.1 ]"
  },
  "orig_nbformat": 4,
  "vscode": {
   "interpreter": {
    "hash": "b9b2b267d8b6a44308ab2463d2c66239007e25fbee8b8f5913de181c571a9509"
   }
  }
 },
 "nbformat": 4,
 "nbformat_minor": 2
}
