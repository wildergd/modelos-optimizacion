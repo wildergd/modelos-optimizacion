{
 "cells": [
  {
   "cell_type": "code",
   "execution_count": null,
   "metadata": {},
   "outputs": [],
   "source": [
    "from typing import Callable\n",
    "import numpy as np\n",
    "import pandas as pd\n",
    "from sklearn import datasets\n",
    "import matplotlib.pyplot as plt\n",
    "from mpl_toolkits.mplot3d import axes3d, Axes3D\n",
    "%matplotlib inline\n",
    "\n",
    "pd.set_option('display.precision', 4)\n",
    "pd.set_option('display.float_format', lambda x: '%.4f' % x)\n",
    "np.set_printoptions(formatter={'all': lambda x: '%.4f' % x})"
   ]
  },
  {
   "cell_type": "code",
   "execution_count": null,
   "metadata": {},
   "outputs": [],
   "source": [
    "def mse(theta:np.ndarray, x:np.ndarray, y: np.ndarray) -> float:\n",
    "    y1 = np.dot(x, theta)\n",
    "    return np.sum((y1 - y) ** 2) / y.shape[0]\n",
    "\n",
    "def mse_gradient(theta:np.ndarray, x:np.ndarray, y: np.ndarray, debug: bool = False) -> np.ndarray:\n",
    "    y1 = np.dot(x, theta)\n",
    "    return np.dot(np.transpose(x), (y1 - y)) * (2 / y.shape[0])\n",
    "\n",
    "def descenso_gradiente_estocastico(\n",
    "    x: np.ndarray,\n",
    "    y: np.ndarray,\n",
    "    fn: Callable = mse,\n",
    "    grad_fn: Callable = mse_gradient,\n",
    "    alpha: float = 0.005,\n",
    "    error: float = 0.001,\n",
    "    max_iter: int = 10000,\n",
    "    sample_size: int = 8\n",
    "):\n",
    "    rows, cols = x.shape\n",
    "    theta = np.ones((cols + 1, 1))\n",
    "    x0 = np.ones(rows)\n",
    "    tmp_x = np.column_stack((x0, x))\n",
    "    current_error = np.Inf\n",
    "    errors = []\n",
    "\n",
    "    for iter in range(max_iter):\n",
    "        np.random.seed(iter)\n",
    "        indexes = np.random.permutation(min(max(sample_size, 1), rows))\n",
    "        smp_x = tmp_x[indexes]\n",
    "        smp_y = y[indexes]\n",
    "        grad = grad_fn(theta, smp_x, smp_y)\n",
    "        theta = theta - alpha * grad\n",
    "        current_error = abs(np.sum(grad_fn(theta, smp_x, smp_y)))\n",
    "        errors.append(current_error)\n",
    "        if current_error <= error:\n",
    "            return theta, iter + 1, current_error, errors\n",
    "        \n",
    "    return theta, max_iter, current_error, errors"
   ]
  },
  {
   "cell_type": "code",
   "execution_count": null,
   "metadata": {},
   "outputs": [],
   "source": [
    "dataset = pd.read_csv('./data/usa-housing-modified.csv')\n",
    "dataset.head()"
   ]
  },
  {
   "cell_type": "code",
   "execution_count": null,
   "metadata": {},
   "outputs": [],
   "source": [
    "dataset['Avg_Area_Income'] = (\n",
    "    dataset['Avg_Area_Income'] - dataset['Avg_Area_Income'].mean()\n",
    ") / dataset['Avg_Area_Income'].std()\n",
    "dataset['Area_Population'] = (\n",
    "    dataset['Area_Population'] - dataset['Area_Population'].mean()\n",
    ") / dataset['Area_Population'].std()\n",
    "dataset['Price'] = (\n",
    "    dataset['Price'] - dataset['Price'].mean()\n",
    ") / dataset['Price'].std()\n",
    "\n",
    "dataset.head()"
   ]
  },
  {
   "cell_type": "code",
   "execution_count": null,
   "metadata": {},
   "outputs": [],
   "source": [
    "plt.figure(figsize=(16, 3))\n",
    "plt.subplot(1, 5, 1)\n",
    "plt.scatter(dataset[['Avg_Area_Income']], dataset[['Price']])\n",
    "plt.subplot(1, 5, 2)\n",
    "plt.scatter(dataset[['House_Age']], dataset[['Price']])\n",
    "plt.subplot(1, 5, 3)\n",
    "plt.scatter(dataset[['Rooms']], dataset[['Price']])\n",
    "plt.subplot(1, 5, 4)\n",
    "plt.scatter(dataset[['Bedrooms']], dataset[['Price']])\n",
    "plt.subplot(1, 5, 5)\n",
    "plt.scatter(dataset[['Area_Population']], dataset[['Price']])\n",
    "plt.show()"
   ]
  },
  {
   "cell_type": "code",
   "execution_count": null,
   "metadata": {},
   "outputs": [],
   "source": [
    "x = dataset[['Avg_Area_Income', 'Area_Population']].to_numpy()\n",
    "y = dataset[['Price']].to_numpy()\n",
    "\n",
    "thetas, iters, error, errors = descenso_gradiente_estocastico(x, y, alpha=0.05, error=0.001, max_iter=100000, sample_size=1)\n",
    "print(thetas, iters, error)"
   ]
  },
  {
   "cell_type": "code",
   "execution_count": null,
   "metadata": {},
   "outputs": [],
   "source": [
    "plt.plot(np.arange(iters), errors)\n",
    "plt.show()"
   ]
  },
  {
   "cell_type": "code",
   "execution_count": null,
   "metadata": {},
   "outputs": [],
   "source": [
    "%matplotlib widget\n",
    "\n",
    "fig = plt.figure(figsize=(4, 4))\n",
    "ax = fig.add_subplot(projection=\"3d\")\n",
    "x1 = np.linspace(x[:,0].min(), x[:,0].max(), 100)\n",
    "y1 = np.linspace(x[:,1].min(), x[:,1].max(), 100)\n",
    "X, Y = np.meshgrid(x1, y1)\n",
    "\n",
    "Xp = np.concatenate(\n",
    "    [\n",
    "        np.ones(X.shape).ravel()[:, np.newaxis],\n",
    "        X.ravel()[:, np.newaxis], \n",
    "        Y.ravel()[:, np.newaxis]\n",
    "    ],\n",
    "    axis=1\n",
    ")\n",
    "\n",
    "Z = np.dot(Xp, thetas).reshape((100, 100))\n",
    "\n",
    "ax.scatter(x[:, 0], x[:, 1], y, c='C0')\n",
    "ax.plot_surface(X, Y, Z, color='red', alpha=0.35)\n",
    "fig.tight_layout()\n"
   ]
  }
 ],
 "metadata": {
  "kernelspec": {
   "display_name": "Python 3.9.13 ('python-ml-env')",
   "language": "python",
   "name": "python3"
  },
  "language_info": {
   "codemirror_mode": {
    "name": "ipython",
    "version": 3
   },
   "file_extension": ".py",
   "mimetype": "text/x-python",
   "name": "python",
   "nbconvert_exporter": "python",
   "pygments_lexer": "ipython3",
   "version": "3.9.13 | packaged by conda-forge | (main, May 27 2022, 17:00:52) \n[Clang 13.0.1 ]"
  },
  "orig_nbformat": 4,
  "vscode": {
   "interpreter": {
    "hash": "b9b2b267d8b6a44308ab2463d2c66239007e25fbee8b8f5913de181c571a9509"
   }
  }
 },
 "nbformat": 4,
 "nbformat_minor": 2
}
