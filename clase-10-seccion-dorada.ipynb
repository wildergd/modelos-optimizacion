{
 "cells": [
  {
   "cell_type": "code",
   "execution_count": 1,
   "metadata": {},
   "outputs": [],
   "source": [
    "from lib.optimization_methods import seccion_dorada\n",
    "from lib.utils import plot_method\n",
    "import numpy as np\n",
    "%matplotlib inline"
   ]
  },
  {
   "cell_type": "markdown",
   "metadata": {},
   "source": [
    "# Método: Sección Dorada"
   ]
  },
  {
   "cell_type": "code",
   "execution_count": 8,
   "metadata": {},
   "outputs": [
    {
     "data": {
      "image/png": "[encoded data removed]",
      "text/plain": [
       "<Figure size 432x288 with 1 Axes>"
      ]
     },
     "metadata": {
      "needs_background": "light"
     },
     "output_type": "display_data"
    }
   ],
   "source": [
    "# plot_method(\n",
    "#     fn = lambda x: (1 / x) - 4,\n",
    "#     method = seccion_dorada,\n",
    "#     interval = [-1, 3],\n",
    "#     xl = -1,\n",
    "#     xu = 3\n",
    "# )"
   ]
  },
  {
   "cell_type": "code",
   "execution_count": 3,
   "metadata": {},
   "outputs": [],
   "source": [
    "plot_method(lambda x: np.sin(x), seccion_dorada, [-np.pi / 2, np.pi / 2], xl = -np.pi / 2, xu = 3 * np.pi, error = 0.0000000000001)"
   ]
  },
  {
   "cell_type": "code",
   "execution_count": 4,
   "metadata": {},
   "outputs": [],
   "source": [
    "# plot_method(lambda x: np.exp(x) - x**2, seccion_dorada, [-1, 2], xl = -1, xu = 2)"
   ]
  },
  {
   "cell_type": "code",
   "execution_count": 5,
   "metadata": {},
   "outputs": [],
   "source": [
    "# plot_method(lambda x: 204165.5 / (330 - 2 * x) + 10400/ (x - 20), seccion_dorada, [40, 90], xl =40, xu = 90, error = 12)"
   ]
  }
 ],
 "metadata": {
  "kernelspec": {
   "display_name": "Python 3.9.13 ('python-ml-env')",
   "language": "python",
   "name": "python3"
  },
  "language_info": {
   "codemirror_mode": {
    "name": "ipython",
    "version": 3
   },
   "file_extension": ".py",
   "mimetype": "text/x-python",
   "name": "python",
   "nbconvert_exporter": "python",
   "pygments_lexer": "ipython3",
   "version": "3.9.13"
  },
  "orig_nbformat": 4,
  "vscode": {
   "interpreter": {
    "hash": "b9b2b267d8b6a44308ab2463d2c66239007e25fbee8b8f5913de181c571a9509"
   }
  }
 },
 "nbformat": 4,
 "nbformat_minor": 2
}
