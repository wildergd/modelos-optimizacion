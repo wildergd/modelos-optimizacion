{
 "cells": [
  {
   "cell_type": "markdown",
   "metadata": {},
   "source": [
    "# Método: Descenso del Gradiente\n",
    "\n",
    "El algoritmo de descenso de gradiente estima numéricamente dónde se encuentran los mínimos locales de una función. En lugar de encontrar mínimos manipulando símbolos (estableciendo $\\nabla f = 0$), el descenso de gradiente aproxima la solución con números. Además no requiere ninguna fórmula.\n",
    "\n",
    "### Ejemplo\n",
    "Consideremos la función:\n",
    "$$ f(x) = \\frac {x^2 \\cos(x) - x} {10} $$\n",
    "\n",
    "<img src=\"images/fig1.png\" />\n",
    "\n",
    "En la figura 2, podemos apreciar que si elegimos $x_{0} = 6$ y $\\alpha = 0.2$, el descenso de gradiente se mueve desde el primer punto es $x_{0}$ hasta converger al mínimo cerca de $x = 4$ después de solo 10 pasos.\n",
    "\n",
    "<img src=\"images/fig2.png\" />\n",
    "\n",
    "Pero, Si usamos el mismo $x_{0}$ y establecemos un valor $\\alpha = 1.5$, el algoritmo no logra encontrar el mínimo. Por tanto una de las limitaciones del algortimo es precisamente el escoger un $\\alpha$ acorde  pues un valor muy grande podría no converger (o hacerlo de manera muy lenta) y un valor muy pequeño podria tomar mas pasos de los necesarios y hacer el proceso casi imposible de evaluar.\n",
    "\n",
    "Entre las limitaciones del método tenemos:\n",
    " - sólo encuentra mínimos locales\n",
    " - sólo funciona cuando la derivada de la función es continua\n"
   ]
  },
  {
   "cell_type": "markdown",
   "metadata": {},
   "source": [
    "## Descenso del Gradiente Simple\n",
    "Sea el problema de optimización:\n",
    "\n",
    "$$ \\argmin\\limits_{x}\\, f(x) $$\n",
    "\n",
    "Donde *f* es una función continua y dos veces continuamente derivable.\n",
    "\n",
    "Luego, sea $x^{t}$ el punto actual. Entonces el vector:\n",
    "\n",
    "$$p^{t} = - \\nabla f(x^{t})$$\n",
    "\n",
    "es una dirección de descenso. O sea, satisface:\n",
    "\n",
    "$$P^{\\top} \\nabla f(x^{t}) < 0$$\n",
    "\n",
    "El punto $x^{t+1}$ se obtiene mediante:\n",
    "$$x^{t+1} = x^{t} - \\alpha \\nabla f^{t}$$\n",
    "\n",
    "donde $\\alpha$ es el tamaño de paso y para una $\\alpha$ sufientemente pequeña se garantiza:\n",
    "\n",
    "$$f(x^{t} - \\alpha \\nabla f^{t}) < f^{t}$$\n",
    "\n",
    "si\n",
    "\n",
    "$$\\nabla f^{t} = 0$$\n",
    "\n",
    "### Algoritmo\n",
    "\n",
    "- Inicializar valor para $\\alpha$ y $x_{0}$\n",
    "- Repetir para cada *i < máximo de iteraciones*\n",
    "- &emsp;Si $|| \\nabla f(x_{i})|| < error$ o *i == máximo de iteraciones* entonces detener y retornar $x_{i}$\n",
    "- &emsp;$x_{i+1} = x_{i} - \\alpha \\nabla f(x_{i})$\n",
    "- &emsp;$i++$\n",
    "\n",
    "### Implementación en Python"
   ]
  },
  {
   "cell_type": "code",
   "execution_count": 1,
   "metadata": {},
   "outputs": [
    {
     "data": {
      "image/png": "[encoded data removed]",
      "text/plain": [
       "<Figure size 432x288 with 1 Axes>"
      ]
     },
     "metadata": {
      "needs_background": "light"
     },
     "output_type": "display_data"
    }
   ],
   "source": [
    "import numpy as np\n",
    "import matplotlib.pyplot as plt\n",
    "%matplotlib inline\n",
    "\n",
    "fn = lambda x: (x**2 * np.cos(x) - x) / 10\n",
    "grad = lambda x: (2*x * np.cos(x) - x**2 * np.sin(x) - 1) / 10\n",
    "\n",
    "def descenso_gradiente(fn, x0, alpha, error, max_iter):\n",
    "    grad = lambda x, delta: (fn(x + delta) - fn(x - delta)) / (2 * delta)\n",
    "    delta = 0.00001\n",
    "    x = x0\n",
    "    i = 1\n",
    "    while i < max_iter:\n",
    "        if grad(x, delta) < error:\n",
    "            return x, i\n",
    "        x = x - alpha * grad(x, delta)\n",
    "        i += 1\n",
    "\n",
    "    return x, max_iter\n",
    "\n",
    "min, iter = descenso_gradiente(fn, x0 = 6, alpha = 0.2, error = 0.000001, max_iter=1000000)\n",
    "\n",
    "x = np.linspace(-2, 8, 100)\n",
    "plt.plot(x, fn(x))\n",
    "plt.scatter(6, fn(6), color=\"black\")\n",
    "plt.scatter(min, fn(min), color=\"red\")\n",
    "plt.text(0, .1, f'min f({min:.2f}) = {fn(min):.2f} in {iter} iters')\n",
    "plt.show()"
   ]
  },
  {
   "cell_type": "markdown",
   "metadata": {},
   "source": [
    "\n",
    "## Descenso del Gradiente Estocástico\n",
    "\n",
    "Considermos una variante del problema general, uno cuya función objetivo (costo) se pueda denotar como la suma de muchos pequeñas funciones (o costos). O sea:\n",
    "\n",
    "$$ \\argmin\\limits_{x}\\, f(x) = \\frac{1}{|\\Omega|}\\,\\sum_{i \\in \\Omega} {f_{i}(x)} $$\n",
    "\n",
    "En este caso, la dirección de descenso de gradiente esta dado por la ecuación:\n",
    "\n",
    "$$ p^{t} = - \\nabla f^{t} = - \\frac{1}{|\\Omega|}\\,\\sum_{i \\in \\Omega} \\nabla {f^{t}_{i}} $$\n",
    "\n",
    "Nótese que: $p^t$ puede ser interpretado como el valor esperado (promedio sobre toda la población). Esto es:\n",
    "\n",
    "$$ p^t = - \\Epsilon \\{ \\nabla f^t_{i} \\}\\,\\,\\,\\,para\\,\\,i = 1, 2, ..., \\Omega $$\n",
    "\n",
    "donde $|\\Omega|$ denota la cardinalidad en el conjunto $\\Omega$.\n",
    "\n",
    "En cada iteración, la suma se realiza sobre una muestra en lugar de utilizar toda la población. De ahí el término **Estocástico**. \n",
    "\n",
    "$$ S^t \\subset \\Omega $$\n",
    "\n",
    "Luego\n",
    "\n",
    "$$ \\tilde p^{t} = - \\nabla f^{t} = - \\frac{1}{|S^t|}\\,\\sum_{i \\in S^t} \\nabla {f^{t}_{i}} $$\n",
    "\n",
    "Lo cual es equivalente a calcular el gradiente como el promedio de los gradientes de la muestra.\n",
    "\n",
    "#### Ventajas:\n",
    "\n",
    "- Si la función objetivo es la suma de de costos individuales (errores) sobre un conjunto muy grande de datos. La muestra suele ser representativa y producir un valor muy cercano al de la población.\n",
    "\n",
    "- Se reduce el número de cálculos en cada iteración.\n",
    "\n",
    "- Cuando hay datos atípicos (outliers), las muestras pueden ser robustas a esas “pocas” grandes desviaciones (salvo en aquellas muestras que sean incluidos, que se esperan sean pocas).\n",
    "\n",
    "- Si la función objetivo es (ruidosa, tiene muchos mínimos locales pequeños). El gradiente estocástico permite suavizar la función objetivo y reduce el riesgo de tener una convergencia temprana.\n",
    "\n",
    "#### Desventajas:\n",
    "\n",
    "- El efecto de los outliers en el gradiente de una muestra puede afectar mas fuertemente y desviar al algoritmo de su trayectoria de convergencia.\n",
    "\n",
    "### Algoritmo\n",
    "\n",
    "- Inicializar valor para $\\alpha$ y vector $\\theta$\n",
    "- Repetir para cada *i < máximo de iteraciones*\n",
    "- &emsp;Se toma al azar una muestra t\n",
    "- &emsp;$ \\theta = \\theta - \\alpha \\nabla f(\\theta, t)$\n",
    "- &emsp;Si $|| \\nabla f(\\theta, t)|| < error$ entonces detener y retornar $\\theta$\n",
    "\n",
    "### Implementación en Python"
   ]
  },
  {
   "cell_type": "code",
   "execution_count": 2,
   "metadata": {},
   "outputs": [],
   "source": [
    "import re\n",
    "from typing import Callable\n",
    "import numpy as np\n",
    "import matplotlib.pyplot as plt\n",
    "%matplotlib inline\n",
    "\n",
    "def mse(theta:np.ndarray, x:np.ndarray, y: np.ndarray) -> float:\n",
    "    y1 = np.dot(x, theta)\n",
    "    return np.sum((y1 - y) ** 2) / y.shape[0]\n",
    "\n",
    "def mse_gradient(theta:np.ndarray, x:np.ndarray, y: np.ndarray, debug: bool = False) -> np.ndarray:\n",
    "    y1 = np.dot(x, theta)\n",
    "    return np.dot(np.transpose(x), (y1 - y)) * (2 / y.shape[0])\n",
    "\n",
    "def descenso_gradiente_estocastico(\n",
    "    x: np.ndarray,\n",
    "    y: np.ndarray,\n",
    "    fn: Callable = mse,\n",
    "    grad_fn: Callable = mse_gradient,\n",
    "    alpha: float = 0.005,\n",
    "    error: float = 0.001,\n",
    "    max_iter: int = 10000,\n",
    "    sample_size: int = 10\n",
    "):\n",
    "    rows, cols = x.shape\n",
    "    theta = np.ones((cols + 1, 1))\n",
    "    x0 = np.ones(rows)\n",
    "    tmp_x = np.column_stack((x0, x))\n",
    "    current_error = np.Inf\n",
    "\n",
    "    for iter in range(max_iter):\n",
    "        np.random.seed(iter)\n",
    "        indexes = np.random.permutation(sample_size)\n",
    "        smp_x = tmp_x[indexes]\n",
    "        smp_y = y[indexes]\n",
    "        grad = grad_fn(theta, smp_x, smp_y)\n",
    "        theta = theta - alpha * grad\n",
    "        current_error = abs(np.sum(grad_fn(theta, smp_x, smp_y)))\n",
    "        if current_error <= error:\n",
    "            return theta, iter, current_error\n",
    "        \n",
    "    return theta, max_iter, current_error"
   ]
  },
  {
   "cell_type": "code",
   "execution_count": 4,
   "metadata": {},
   "outputs": [
    {
     "name": "stdout",
     "output_type": "stream",
     "text": [
      "[[ 0.00884801]\n",
      " [ 0.09379821]\n",
      " [-0.12939073]\n",
      " [ 0.3803715 ]\n",
      " [ 0.16291407]\n",
      " [ 0.01009834]\n",
      " [ 0.0260969 ]\n",
      " [ 0.03073639]\n",
      " [-0.20214081]\n",
      " [-0.2900198 ]\n",
      " [-0.08458914]] 1389 0.0009935359958802388\n"
     ]
    }
   ],
   "source": [
    "x = np.random.normal(0, 1, (100, 10))\n",
    "y = np.random.normal(0, 1, (100, 1))\n",
    "thetas, iters, error = descenso_gradiente_estocastico(x, y, alpha=0.005, max_iter=100000, sample_size=32)\n",
    "print(thetas, iters, error)"
   ]
  }
 ],
 "metadata": {
  "kernelspec": {
   "display_name": "Python 3.9.13 ('python-ml-env')",
   "language": "python",
   "name": "python3"
  },
  "language_info": {
   "codemirror_mode": {
    "name": "ipython",
    "version": 3
   },
   "file_extension": ".py",
   "mimetype": "text/x-python",
   "name": "python",
   "nbconvert_exporter": "python",
   "pygments_lexer": "ipython3",
   "version": "3.9.13"
  },
  "orig_nbformat": 4,
  "vscode": {
   "interpreter": {
    "hash": "b9b2b267d8b6a44308ab2463d2c66239007e25fbee8b8f5913de181c571a9509"
   }
  }
 },
 "nbformat": 4,
 "nbformat_minor": 2
}
