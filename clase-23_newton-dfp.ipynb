{
 "cells": [
  {
   "cell_type": "code",
   "execution_count": 31,
   "metadata": {},
   "outputs": [],
   "source": [
    "from typing import Callable\n",
    "import numpy as np\n",
    "import matplotlib.pyplot as plt\n",
    "from mpl_toolkits.mplot3d import axes3d, Axes3D\n",
    "%matplotlib inline\n",
    "\n",
    "np.set_printoptions(formatter={'all': lambda x: '%.4f' % x})"
   ]
  },
  {
   "cell_type": "code",
   "execution_count": 32,
   "metadata": {},
   "outputs": [],
   "source": [
    "def gradient(fn: Callable, p: np.ndarray, delta) -> np.ndarray:\n",
    "    fn_dx = lambda fn, p, delta: (fn(p[0] + delta, p[1]) - fn(p[0] - delta, p[1])) / (2 * delta)\n",
    "    fn_dy = lambda fn, p, delta: (fn(p[0], p[1] + delta) - fn(p[0], p[1] - delta)) / (2 * delta)\n",
    "    return np.array([fn_dx(fn, p, delta), fn_dy(fn, p, delta)])\n",
    "\n",
    "def calc_alpha(fn, x, d, alpha):\n",
    "    alphas = np.linspace(0, alpha, 20)\n",
    "    min = np.argmin(np.array([fn(*(x + a * d)) for a in alphas]))\n",
    "    return alphas[min]\n",
    "\n",
    "def newton_dfp(\n",
    "    fn: Callable,\n",
    "    point: np.ndarray,\n",
    "    delta: float = 10,\n",
    "    alpha: float = 0.1,\n",
    "    error: float = 0.001,\n",
    "    max_iters: int = 1000,\n",
    "    debug: bool = False\n",
    "):\n",
    "    x = point\n",
    "    H = np.eye(len(x))\n",
    "    epsilon = np.finfo(float).eps\n",
    "\n",
    "    for iter in range(max_iters):\n",
    "        grad = gradient(fn, x, delta)\n",
    "        \n",
    "        if grad == 0 or max_iters == 1:\n",
    "            return { 'point': x, 'iters': iter + 1 }\n",
    "\n",
    "        d_iter = np.matmul(-H, np.transpose(grad))\n",
    "        alpha_iter = calc_alpha(fn, x, np.transpose(d_iter), alpha)\n",
    "\n",
    "        x = x + alpha_iter * d_iter\n",
    "\n",
    "        dx_iter = alpha_iter * d_iter\n",
    "        delta_grad = gradient(fn, x, delta) - grad  # type: ignore\n",
    "        \n",
    "        H = H + (delta_grad * dx_iter) / (grad * dx_iter) - (np.matmul(H * grad, H * grad)) / (np.dot(np.dot(np.transpose(grad), H), delta_grad))\n",
    "    \n",
    "    return { 'point': x, 'iters': max_iters }"
   ]
  },
  {
   "cell_type": "code",
   "execution_count": 33,
   "metadata": {},
   "outputs": [
    {
     "name": "stderr",
     "output_type": "stream",
     "text": [
      "/var/folders/5t/h61cy0q12yq1k0k5tf7ch0x40000gn/T/ipykernel_21287/579713451.py:38: RuntimeWarning: invalid value encountered in divide\n",
      "  H = H + (delta_grad * dx_iter) / (grad * dx_iter) - (np.matmul(H * grad, H * grad)) / (np.dot(np.dot(np.transpose(grad), H), delta_grad))\n",
      "/var/folders/5t/h61cy0q12yq1k0k5tf7ch0x40000gn/T/ipykernel_21287/579713451.py:38: RuntimeWarning: divide by zero encountered in divide\n",
      "  H = H + (delta_grad * dx_iter) / (grad * dx_iter) - (np.matmul(H * grad, H * grad)) / (np.dot(np.dot(np.transpose(grad), H), delta_grad))\n"
     ]
    },
    {
     "data": {
      "text/plain": [
       "{'point': array([nan, nan]), 'iters': 1000}"
      ]
     },
     "execution_count": 33,
     "metadata": {},
     "output_type": "execute_result"
    }
   ],
   "source": [
    "fn1 = lambda x, y : 100*(np.sqrt(x**2+(y+1)**2)-1)**2 + 90*(np.sqrt(x**2+(y+1)**2)-1)**2 -(20*x+40*y)\n",
    "x = np.array([3, 3])\n",
    "\n",
    "newton_dfp(\n",
    "    fn1,\n",
    "    x,\n",
    "    alpha = 0.1,\n",
    "    delta = 10,\n",
    "    error = 0.001,\n",
    "    max_iters = 1000,\n",
    "    debug = True\n",
    ")"
   ]
  },
  {
   "cell_type": "code",
   "execution_count": 34,
   "metadata": {},
   "outputs": [],
   "source": [
    "# fn2 = lambda x, y : (x - 3) ** 2 + (y - 5) ** 2\n",
    "# x = np.array([7, 9])\n",
    "\n",
    "# levenberg_marquardt(\n",
    "#     fn2,\n",
    "#     x,\n",
    "#     e1 = 0.001,\n",
    "#     e2 = 0.002,\n",
    "#     alpha = 0.001,\n",
    "#     delta = 10\n",
    "# )"
   ]
  },
  {
   "cell_type": "code",
   "execution_count": 35,
   "metadata": {},
   "outputs": [],
   "source": [
    "# fn1 = lambda x, y: -25 * x + 110 * y\n",
    "# x = np.array([7, 9])\n",
    "# levenberg_marquardt(\n",
    "#     fn1,\n",
    "#     x,\n",
    "#     e1 = 0.001,\n",
    "#     e2 = 0.002,\n",
    "#     alpha = 0.001,\n",
    "#     delta = 10\n",
    "# )"
   ]
  },
  {
   "cell_type": "code",
   "execution_count": 36,
   "metadata": {},
   "outputs": [],
   "source": [
    "# fn3 = lambda x, y :190 * (np.sqrt(x ** 2 + (y + 1) ** 2) - 1) ** 2 - (20 * x + 40 * y)\n",
    "# x = np.array([7, 9])\n",
    "\n",
    "# levenberg_marquardt(\n",
    "#     fn3,\n",
    "#     x,\n",
    "#     e1 = 0.001,\n",
    "#     e2 = 0.002,\n",
    "#     alpha = 0.001,\n",
    "#     delta = 10\n",
    "# )"
   ]
  }
 ],
 "metadata": {
  "kernelspec": {
   "display_name": "Python 3.9.13 ('python-ml-env')",
   "language": "python",
   "name": "python3"
  },
  "language_info": {
   "codemirror_mode": {
    "name": "ipython",
    "version": 3
   },
   "file_extension": ".py",
   "mimetype": "text/x-python",
   "name": "python",
   "nbconvert_exporter": "python",
   "pygments_lexer": "ipython3",
   "version": "3.9.13"
  },
  "orig_nbformat": 4,
  "vscode": {
   "interpreter": {
    "hash": "b9b2b267d8b6a44308ab2463d2c66239007e25fbee8b8f5913de181c571a9509"
   }
  }
 },
 "nbformat": 4,
 "nbformat_minor": 2
}
