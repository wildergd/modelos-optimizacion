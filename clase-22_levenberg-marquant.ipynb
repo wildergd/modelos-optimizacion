{
 "cells": [
  {
   "cell_type": "code",
   "execution_count": 6,
   "metadata": {},
   "outputs": [],
   "source": [
    "from typing import Callable\n",
    "import numpy as np\n",
    "import matplotlib.pyplot as plt\n",
    "from mpl_toolkits.mplot3d import axes3d, Axes3D\n",
    "%matplotlib inline\n",
    "\n",
    "np.set_printoptions(formatter={'all': lambda x: '%.4f' % x})"
   ]
  },
  {
   "cell_type": "code",
   "execution_count": 7,
   "metadata": {},
   "outputs": [],
   "source": [
    "def hessian(fn: Callable, point: np.ndarray, delta: float): \n",
    "    var_count = len(point)\n",
    "    fn_2dx = lambda fn, p, delta: (fn(p[0] + delta, p[1]) - 2 * fn(*p) + fn(p[0] - delta, p[1])) / (delta ** 2)\n",
    "    fn_2dy = lambda fn, p, delta: (fn(p[0], p[1] + delta) - 2 * fn(*p) + fn(p[0], p[1] - delta)) / (delta ** 2)\n",
    "    fn_dxy = lambda fn, p, delta: (fn(p[0] + delta, p[1] + delta) - fn(p[0] + delta, p[1] - delta) - fn(p[0] - delta, p[1] + delta) + fn(p[0] - delta, p[1] - delta)) / 4 * (delta ** 2)\n",
    "    h = np.zeros((var_count, var_count))\n",
    "    h[0, 0] = fn_2dx(fn, point, delta)\n",
    "    h[1, 1] = fn_2dy(fn, point, delta)\n",
    "    h[0, 1] = fn_dxy(fn, point, delta)\n",
    "    h[1, 0] = h[0, 1]\n",
    "    return h\n",
    "\n",
    "def gradient(fn: Callable, p: np.ndarray, delta):\n",
    "    fn_dx = lambda fn, p, delta: (fn(p[0] + delta, p[1]) - fn(p[0] - delta, p[1])) / (2 * delta)\n",
    "    fn_dy = lambda fn, p, delta: (fn(p[0], p[1] + delta) - fn(p[0], p[1] - delta)) / (2 * delta)\n",
    "    return np.array([fn_dx(fn, p, delta), fn_dy(fn, p, delta)])\n",
    "\n",
    "def levenberg_marquardt(\n",
    "    fn: Callable,\n",
    "    point: np.ndarray,\n",
    "    e1: float,\n",
    "    e2: float,\n",
    "    delta: float,\n",
    "    alpha: float = 0.05,\n",
    "    max_iters: int = 1000,\n",
    "    debug: bool = False\n",
    "):\n",
    "    x = point\n",
    "\n",
    "    for iter in range(max_iters):\n",
    "        fn_prev = fn(*x)\n",
    "\n",
    "        if debug and iter == 0:\n",
    "            print(f'f({x[0], x[1]}) = {fn_prev}')\n",
    "            print('Iter\\t fn(x, y)\\t||grad||')\n",
    "\n",
    "        grad = gradient(fn, x, delta)\n",
    "        h = hessian(fn, x, delta)\n",
    "        s = np.matmul(-1 * np.linalg.inv(h + alpha * np.eye(len(x))), np.transpose(grad))\n",
    "\n",
    "        x = x + np.transpose(s) \n",
    "        fn_curr = fn(*x)\n",
    "\n",
    "        alpha = alpha / 2 if fn_curr < fn_prev else 2 * alpha\n",
    "\n",
    "        if debug:\n",
    "            print(f'{iter + 1}\\tf({x[0]:.2f},{x[1]:.2f}) = {fn_curr:.2f}\\t{np.linalg.norm(grad):.2f}')\n",
    "\n",
    "        if abs(fn_curr - fn_prev) <= e1 and np.linalg.norm(grad) <= e2:\n",
    "            return { 'point': x, 'iters': iter + 1 }\n",
    "    \n",
    "    return { 'point': x, 'iters': max_iters }"
   ]
  },
  {
   "cell_type": "code",
   "execution_count": 11,
   "metadata": {},
   "outputs": [
    {
     "data": {
      "text/plain": [
       "{'point': array([3.0000, 5.0000]), 'iters': 3}"
      ]
     },
     "execution_count": 11,
     "metadata": {},
     "output_type": "execute_result"
    }
   ],
   "source": [
    "fn2 = lambda x, y : (x - 3) ** 2 + (y - 5) ** 2\n",
    "x = np.array([7, 9])\n",
    "\n",
    "levenberg_marquardt(\n",
    "    fn2,\n",
    "    x,\n",
    "    e1 = 0.001,\n",
    "    e2 = 0.002,\n",
    "    alpha = 0.001,\n",
    "    delta = 1\n",
    ")"
   ]
  },
  {
   "cell_type": "code",
   "execution_count": 10,
   "metadata": {},
   "outputs": [
    {
     "data": {
      "text/plain": [
       "{'point': array([0.1696, 0.0427]), 'iters': 18}"
      ]
     },
     "execution_count": 10,
     "metadata": {},
     "output_type": "execute_result"
    }
   ],
   "source": [
    "fn2 = lambda x, y :190 * (np.sqrt(x ** 2 + (y + 1) ** 2) - 1) ** 2 - (20 * x + 40 * y)\n",
    "x = np.array([7, 9])\n",
    "\n",
    "levenberg_marquardt(\n",
    "    fn2,\n",
    "    x,\n",
    "    e1 = 0.001,\n",
    "    e2 = 0.002,\n",
    "    alpha = 0.001,\n",
    "    delta = 1\n",
    ")"
   ]
  }
 ],
 "metadata": {
  "kernelspec": {
   "display_name": "Python 3.9.13 ('python-ml-env')",
   "language": "python",
   "name": "python3"
  },
  "language_info": {
   "codemirror_mode": {
    "name": "ipython",
    "version": 3
   },
   "file_extension": ".py",
   "mimetype": "text/x-python",
   "name": "python",
   "nbconvert_exporter": "python",
   "pygments_lexer": "ipython3",
   "version": "3.9.13"
  },
  "orig_nbformat": 4,
  "vscode": {
   "interpreter": {
    "hash": "b9b2b267d8b6a44308ab2463d2c66239007e25fbee8b8f5913de181c571a9509"
   }
  }
 },
 "nbformat": 4,
 "nbformat_minor": 2
}
