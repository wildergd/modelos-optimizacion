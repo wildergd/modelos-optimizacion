{
 "cells": [
  {
   "cell_type": "code",
   "execution_count": 4,
   "metadata": {},
   "outputs": [],
   "source": [
    "from typing import Callable\n",
    "import numpy as np\n",
    "import matplotlib.pyplot as plt\n",
    "from mpl_toolkits.mplot3d import axes3d, Axes3D\n",
    "from lib.optimization_methods import seccion_dorada\n",
    "%matplotlib inline\n",
    "\n",
    "np.set_printoptions(formatter={'all': lambda x: '%.4f' % x})"
   ]
  },
  {
   "cell_type": "code",
   "execution_count": 21,
   "metadata": {},
   "outputs": [],
   "source": [
    "def gradient(fn: Callable, p: np.ndarray, delta) -> np.ndarray:\n",
    "    fn_dx = lambda fn, p, delta: (fn([p[0] + delta, p[1]]) - fn([p[0] - delta, p[1]])) / (2 * delta)\n",
    "    fn_dy = lambda fn, p, delta: (fn([p[0], p[1] + delta]) - fn([p[0], p[1] - delta])) / (2 * delta)\n",
    "    return np.array([fn_dx(fn, p, delta), fn_dy(fn, p, delta)])\n",
    "\n",
    "def calc_alpha(fn, x, direction, error, debug = False):\n",
    "    h = lambda alpha: fn(x + alpha * direction)\n",
    "    alpha, _ = seccion_dorada(h, xl = 0, xu = 100, error = error)\n",
    "    return alpha\n",
    "    \n",
    "def bfgs(\n",
    "    fn: Callable,\n",
    "    grad_fn: Callable,\n",
    "    point: np.ndarray,\n",
    "    delta: float = 0.1,\n",
    "    error_iter: float = 0.001,\n",
    "    error_grad: float = 0.001,\n",
    "    max_iters: int = 1000,\n",
    "    debug: bool = False\n",
    "):\n",
    "    x = point\n",
    "    A = np.eye(len(x))\n",
    "    epsilon = np.finfo(float).eps\n",
    "    alpha = 1\n",
    "\n",
    "    for iter in range(max_iters):\n",
    "        y = fn(x)\n",
    "        grad = grad_fn(fn, x, delta)\n",
    "        direction = -grad\n",
    "        \n",
    "        x_new = x + alpha * direction\n",
    "\n",
    "        alpha = calc_alpha(fn, x, direction, error_grad, debug)\n",
    "        if debug: print(f'alpha = {alpha}')\n",
    "\n",
    "\n",
    "\n",
    "    #     if np.sum(grad) == 0 or max_iters == 1:\n",
    "    #         return { 'point': x, 'iters': iter + 1 }\n",
    "\n",
    "    #     d_iter = np.matmul(-H, np.transpose(grad))\n",
    "    #     alpha_iter = calc_alpha(fn, x, np.transpose(d_iter), delta)\n",
    "    #     print(alpha_iter)\n",
    "    #     dx_iter = alpha_iter * d_iter\n",
    "\n",
    "    #     if debug:\n",
    "    #         print(f'd_iter = {d_iter}')\n",
    "    #         print(f'alpha_iter = {alpha_iter}')\n",
    "    #         print(f'dx_iter = {dx_iter}')\n",
    "\n",
    "    #     x = x + dx_iter\n",
    "\n",
    "    #     delta_grad = grad_fn(fn, x, delta) - grad  # type: ignore\n",
    "        \n",
    "    #     H = H + (delta_grad * dx_iter) / (grad * dx_iter) - (np.matmul(H * grad, H * grad)) / (np.dot(np.dot(np.transpose(grad), H), delta_grad))\n",
    "\n",
    "    #     if debug: \n",
    "    #         print(f'x = {x}')\n",
    "    #         print(f'delta_grad = {delta_grad}')\n",
    "    #         print(f'H = {H}')\n",
    "    #         print(f'------------ END iter {iter} --------------')\n",
    "    \n",
    "    # return { 'point': x, 'iters': max_iters }"
   ]
  },
  {
   "cell_type": "code",
   "execution_count": 22,
   "metadata": {},
   "outputs": [
    {
     "name": "stdout",
     "output_type": "stream",
     "text": [
      "alpha = 99.99999999999976\n",
      "alpha = 99.99999999999976\n",
      "alpha = 99.99999999999976\n"
     ]
    }
   ],
   "source": [
    "p0 = np.array([-1, 1])\n",
    "fn1 = lambda x: 190 * (np.sqrt(x[0]**2 + (x[1] + 1)**2) - 1)**2 -(20 * x[0] + 40 * x[1])\n",
    "gfn1 = lambda fn, p, delta: gradient(fn, p, delta)\n",
    "\n",
    "bfgs(\n",
    "    fn = fn1,\n",
    "    grad_fn = gfn1,\n",
    "    point = p0,\n",
    "    delta = 0.1,\n",
    "    max_iters = 3,\n",
    "    debug = True\n",
    ")"
   ]
  }
 ],
 "metadata": {
  "kernelspec": {
   "display_name": "Python 3.9.13 ('python-ml-env')",
   "language": "python",
   "name": "python3"
  },
  "language_info": {
   "codemirror_mode": {
    "name": "ipython",
    "version": 3
   },
   "file_extension": ".py",
   "mimetype": "text/x-python",
   "name": "python",
   "nbconvert_exporter": "python",
   "pygments_lexer": "ipython3",
   "version": "3.9.13"
  },
  "orig_nbformat": 4,
  "vscode": {
   "interpreter": {
    "hash": "b9b2b267d8b6a44308ab2463d2c66239007e25fbee8b8f5913de181c571a9509"
   }
  }
 },
 "nbformat": 4,
 "nbformat_minor": 2
}
