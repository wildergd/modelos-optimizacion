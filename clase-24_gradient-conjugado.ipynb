{
 "cells": [
  {
   "cell_type": "code",
   "execution_count": 11,
   "metadata": {},
   "outputs": [],
   "source": [
    "from typing import Callable\n",
    "import numpy as np\n",
    "import matplotlib.pyplot as plt\n",
    "from mpl_toolkits.mplot3d import axes3d, Axes3D\n",
    "%matplotlib inline\n",
    "\n",
    "np.set_printoptions(formatter={'all': lambda x: '%.4f' % x})"
   ]
  },
  {
   "cell_type": "code",
   "execution_count": null,
   "metadata": {},
   "outputs": [],
   "source": [
    "def gradiente_conjugado_simple(A: np.ndarray, b: np.ndarray, x0: np.ndarray, error = 0.001, max_iters = 1000) -> dict:\n",
    "    k = 0\n",
    "    x = x0\n",
    "    current_error = np.Inf\n",
    "    for iter in range(max_iters):\n",
    "        r = b - np.dot(A, x)\n",
    "        alpha = np.dot(np.transpose(r), r) / np.dot(np.dot(np.transpose(r), A), r)\n",
    "        x = x + alpha * r\n",
    "        current_error = np.linalg.norm(r)\n",
    "        if current_error <= error:\n",
    "            return { 'x': x, 'error': current_error, 'iters': iter + 1 }\n",
    "    return { 'x': x, 'error': current_error, 'iters': max_iters }"
   ]
  },
  {
   "cell_type": "code",
   "execution_count": null,
   "metadata": {},
   "outputs": [],
   "source": [
    "def gradiente_conjugado_mejorado(A: np.ndarray, b: np.ndarray, x0: np.ndarray, error = 0.001, max_iters = 1000) -> dict:\n",
    "    k = 0\n",
    "    x = x0\n",
    "    current_error = np.Inf\n",
    "    for iter in range(max_iters):\n",
    "        r = b - np.dot(A, x)\n",
    "        p = -r\n",
    "        w = np.dot(A, p)\n",
    "        alpha = np.dot(np.transpose(r), r) / np.dot(np.transpose(p), w)\n",
    "        x = x + alpha * p\n",
    "        r_next = r + alpha * w\n",
    "        betha = np.dot(np.transpose(r_next), r_next) / np.dot(np.transpose(r), r)\n",
    "        p = -r_next + betha * p\n",
    "        current_error = np.linalg.norm(r_next)\n",
    "        if current_error <= error:\n",
    "            return { 'x': x, 'error': current_error, 'iters': iter + 1 }\n",
    "        r = r_next\n",
    "    return { 'x': x, 'error': current_error, 'iters': max_iters }"
   ]
  },
  {
   "cell_type": "code",
   "execution_count": null,
   "metadata": {},
   "outputs": [],
   "source": []
  }
 ],
 "metadata": {
  "kernelspec": {
   "display_name": "Python 3.9.13 ('python-ml-env')",
   "language": "python",
   "name": "python3"
  },
  "language_info": {
   "codemirror_mode": {
    "name": "ipython",
    "version": 3
   },
   "file_extension": ".py",
   "mimetype": "text/x-python",
   "name": "python",
   "nbconvert_exporter": "python",
   "pygments_lexer": "ipython3",
   "version": "3.9.13 | packaged by conda-forge | (main, May 27 2022, 17:00:52) \n[Clang 13.0.1 ]"
  },
  "orig_nbformat": 4,
  "vscode": {
   "interpreter": {
    "hash": "b9b2b267d8b6a44308ab2463d2c66239007e25fbee8b8f5913de181c571a9509"
   }
  }
 },
 "nbformat": 4,
 "nbformat_minor": 2
}
